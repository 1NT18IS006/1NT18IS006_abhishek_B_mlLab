{
 "cells": [
  {
   "cell_type": "code",
   "execution_count": 19,
   "metadata": {},
   "outputs": [
    {
     "name": "stdout",
     "output_type": "stream",
     "text": [
      "cluster1 [[5.9, 3.2], [4.6, 2.9], [4.7, 3.2], [5.0, 3.0], [4.9, 3.1], [5.1, 3.8], [6.0, 3.0]]\n",
      "cluster2 [[5.5, 4.2]]\n",
      "cluster3 [[6.2, 2.8], [6.7, 3.1]]\n"
     ]
    }
   ],
   "source": [
    "import math\n",
    "cluster1 = []\n",
    "cluster2 = []\n",
    "cluster3 = []\n",
    "x1,y1 = 6.2,3.2\n",
    "x2,y2 = 6.6,3.7\n",
    "x3,y3 = 6.5,3.0\n",
    "points = [[5.9,3.2],\n",
    "           [4.6,2.9],\n",
    "           [6.2,2.8],\n",
    "           [4.7,3.2],\n",
    "           [5.5,4.2],\n",
    "           [5.0,3.0],\n",
    "           [4.9,3.1],\n",
    "           [6.7,3.1],\n",
    "           [5.1,3.8],\n",
    "           [6.0,3.0]]\n",
    "\n",
    "def eucledian_distance(a,b):\n",
    "    dis1 = math.sqrt((a-x1)**2 + (b-y1)**2)\n",
    "    dis2 = math.sqrt((a-x2)**2 + (b-y2)**2)\n",
    "    dis3 = math.sqrt((a-x3)**2 + (b-y3)**2)\n",
    "    mind = min(dis1,dis2,dis3)\n",
    "    if(mind == dis1):\n",
    "        cluster1.append([a,b])\n",
    "    elif(mind==dis2):\n",
    "        cluster2.append([a,b])\n",
    "    else:\n",
    "        cluster3.append([a,b])\n",
    "\n",
    "for i,j in points:\n",
    "    eucledian_distance(i,j)\n",
    "print(\"cluster1\",cluster1)\n",
    "print(\"cluster2\",cluster2)\n",
    "print(\"cluster3\",cluster3)"
   ]
  },
  {
   "cell_type": "code",
   "execution_count": null,
   "metadata": {},
   "outputs": [],
   "source": [
    "# CLUSTER 1 ITERATION"
   ]
  },
  {
   "cell_type": "code",
   "execution_count": 20,
   "metadata": {},
   "outputs": [
    {
     "name": "stdout",
     "output_type": "stream",
     "text": [
      "[[5.9, 3.2], [4.6, 2.9], [4.7, 3.2], [5.0, 3.0], [4.9, 3.1], [5.1, 3.8], [6.0, 3.0]]\n",
      "New centroid for cluster1  x= 5.171428571428572\n",
      "New centroid for cluster1  y= 3.1714285714285713\n"
     ]
    }
   ],
   "source": [
    "print(cluster1)\n",
    "sumi = 0\n",
    "sumj = 0\n",
    "for i,j in cluster1:\n",
    "    sumi = sumi + i\n",
    "    sumj = sumj + j\n",
    "nx1 = (sumi/len(cluster1))\n",
    "ny1 = (sumj/len(cluster1))\n",
    "print(\"New centroid for cluster1  x=\",nx1)\n",
    "print(\"New centroid for cluster1  y=\",ny1)"
   ]
  },
  {
   "cell_type": "code",
   "execution_count": 21,
   "metadata": {},
   "outputs": [
    {
     "name": "stdout",
     "output_type": "stream",
     "text": [
      "[[5.9, 3.2], [4.6, 2.9], [4.7, 3.2], [5.0, 3.0], [4.9, 3.1], [5.1, 3.8], [6.0, 3.0]]\n",
      "cluster1  [[5.9, 3.2], [4.6, 2.9], [4.7, 3.2], [5.0, 3.0], [4.9, 3.1], [5.1, 3.8], [6.0, 3.0]]\n",
      "cluster4 [[4.6, 2.9], [4.7, 3.2], [5.0, 3.0], [4.9, 3.1], [5.1, 3.8]]\n"
     ]
    }
   ],
   "source": [
    "print(cluster1)\n",
    "cluster4 = []\n",
    "def new_eucledian_distance(a,b):\n",
    "    ndis1 = math.sqrt((a-nx1)**2 + (b-ny1)**2)\n",
    "    if(ndis1 < math.sqrt((a-x1)**2 + (b-y1)**2)):\n",
    "        cluster4.append([a,b])\n",
    "        \n",
    "    else:\n",
    "        pass\n",
    "for i,j in cluster1:\n",
    "    new_eucledian_distance(i,j)\n",
    "\n",
    "print(\"cluster1 \",cluster1)\n",
    "print(\"cluster4\",cluster4)"
   ]
  },
  {
   "cell_type": "code",
   "execution_count": 22,
   "metadata": {},
   "outputs": [
    {
     "name": "stdout",
     "output_type": "stream",
     "text": [
      "[[4.6, 2.9], [4.7, 3.2], [5.0, 3.0], [4.9, 3.1], [5.1, 3.8]]\n",
      "New centroid for cluster1  x= 4.860000000000001\n",
      "New centroid for cluster1  y= 3.2\n"
     ]
    }
   ],
   "source": [
    "#2nd iteration for cluster1\n",
    "print(cluster4)\n",
    "sumi = 0\n",
    "sumj = 0\n",
    "for i,j in cluster4:\n",
    "    sumi = sumi + i\n",
    "    sumj = sumj + j\n",
    "nx1 = (sumi/len(cluster4))\n",
    "ny1 = (sumj/len(cluster4))\n",
    "print(\"New centroid for cluster1  x=\",nx1)\n",
    "print(\"New centroid for cluster1  y=\",ny1)"
   ]
  },
  {
   "cell_type": "code",
   "execution_count": 23,
   "metadata": {},
   "outputs": [
    {
     "name": "stdout",
     "output_type": "stream",
     "text": [
      "[[4.6, 2.9], [4.7, 3.2], [5.0, 3.0], [4.9, 3.1], [5.1, 3.8]]\n",
      "cluster7  [[4.6, 2.9], [4.7, 3.2], [5.0, 3.0], [4.9, 3.1], [5.1, 3.8]]\n",
      "cluster4 [[4.6, 2.9], [4.7, 3.2], [5.0, 3.0], [4.9, 3.1], [5.1, 3.8]]\n"
     ]
    }
   ],
   "source": [
    "print(cluster4)\n",
    "cluster7 = []\n",
    "def new_eucledian_distance_1(a,b):\n",
    "    ndis1 = math.sqrt((a-nx1)**2 + (b-ny1)**2)\n",
    "    if(ndis1 < math.sqrt((a-x1)**2 + (b-y1)**2)):\n",
    "        cluster7.append([a,b])\n",
    "        \n",
    "    else:\n",
    "        pass\n",
    "for i,j in cluster4:\n",
    "    new_eucledian_distance_1(i,j)\n",
    "\n",
    "print(\"cluster7 \",cluster7)\n",
    "print(\"cluster4\",cluster4)\n"
   ]
  },
  {
   "cell_type": "code",
   "execution_count": 24,
   "metadata": {},
   "outputs": [
    {
     "name": "stdout",
     "output_type": "stream",
     "text": [
      "[[4.6, 2.9], [4.7, 3.2], [5.0, 3.0], [4.9, 3.1], [5.1, 3.8]]\n",
      "New centroid for cluster1  x= 4.860000000000001\n",
      "New centroid for cluster1  y= 3.2\n"
     ]
    }
   ],
   "source": [
    "#3rd iteration for cluster1\n",
    "print(cluster7)\n",
    "sumi = 0\n",
    "sumj = 0\n",
    "for i,j in cluster7:\n",
    "    sumi = sumi + i\n",
    "    sumj = sumj + j\n",
    "nx1 = (sumi/len(cluster4))\n",
    "ny1 = (sumj/len(cluster4))\n",
    "print(\"New centroid for cluster1  x=\",nx1)\n",
    "print(\"New centroid for cluster1  y=\",ny1)"
   ]
  },
  {
   "cell_type": "code",
   "execution_count": 28,
   "metadata": {},
   "outputs": [],
   "source": [
    "#CLUSTER 3 ITERATION"
   ]
  },
  {
   "cell_type": "code",
   "execution_count": 25,
   "metadata": {},
   "outputs": [
    {
     "name": "stdout",
     "output_type": "stream",
     "text": [
      "[[6.2, 2.8], [6.7, 3.1]]\n",
      "New centroid for cluster3  x= 6.45\n",
      "New centroid for cluster3  y= 2.95\n"
     ]
    }
   ],
   "source": [
    "#1st iteration for cluster3\n",
    "print(cluster3)\n",
    "sumi = 0\n",
    "sumj = 0\n",
    "for i,j in cluster3:\n",
    "    sumi = sumi + i\n",
    "    sumj = sumj + j\n",
    "nx2 = round(sumi/len(cluster3),2)\n",
    "ny2 = round(sumj/len(cluster3),2)\n",
    "print(\"New centroid for cluster3  x=\",nx2)\n",
    "print(\"New centroid for cluster3  y=\",ny2)"
   ]
  },
  {
   "cell_type": "code",
   "execution_count": 26,
   "metadata": {},
   "outputs": [
    {
     "name": "stdout",
     "output_type": "stream",
     "text": [
      "[[6.2, 2.8], [6.7, 3.1]]\n",
      "cluster3  [[6.2, 2.8], [6.7, 3.1]]\n",
      "cluster5 [[6.2, 2.8]]\n"
     ]
    }
   ],
   "source": [
    "print(cluster3)\n",
    "cluster5 = []\n",
    "def new_eucledian_distance_2(a,b):\n",
    "    ndis2 = math.sqrt((a-nx2)**2 + (b-ny2)**2)\n",
    "    if(ndis2 < math.sqrt((a-x3)**2 + (b-y3)**2)):\n",
    "        cluster5.append([a,b])\n",
    "    else:\n",
    "        pass\n",
    "\n",
    "for i,j in cluster3:\n",
    "    new_eucledian_distance_2(i,j)\n",
    "\n",
    "print(\"cluster3 \",cluster3)\n",
    "print(\"cluster5\",cluster5)"
   ]
  },
  {
   "cell_type": "code",
   "execution_count": 27,
   "metadata": {},
   "outputs": [
    {
     "name": "stdout",
     "output_type": "stream",
     "text": [
      "[[6.2, 2.8], [6.7, 3.1]]\n",
      "New centroid for cluster3  x= 6.45\n",
      "New centroid for cluster3  y= 2.95\n"
     ]
    }
   ],
   "source": [
    "#2nd iteration for cluster3\n",
    "print(cluster3)\n",
    "sumi = 0\n",
    "sumj = 0\n",
    "for i,j in cluster3:\n",
    "    sumi = sumi + i\n",
    "    sumj = sumj + j\n",
    "nx2 = round(sumi/len(cluster3),2)\n",
    "ny2 = round(sumj/len(cluster3),2)\n",
    "print(\"New centroid for cluster3  x=\",nx2)\n",
    "print(\"New centroid for cluster3  y=\",ny2)"
   ]
  },
  {
   "cell_type": "code",
   "execution_count": null,
   "metadata": {},
   "outputs": [],
   "source": []
  }
 ],
 "metadata": {
  "kernelspec": {
   "display_name": "Python 3",
   "language": "python",
   "name": "python3"
  },
  "language_info": {
   "codemirror_mode": {
    "name": "ipython",
    "version": 3
   },
   "file_extension": ".py",
   "mimetype": "text/x-python",
   "name": "python",
   "nbconvert_exporter": "python",
   "pygments_lexer": "ipython3",
   "version": "3.8.5"
  }
 },
 "nbformat": 4,
 "nbformat_minor": 4
}

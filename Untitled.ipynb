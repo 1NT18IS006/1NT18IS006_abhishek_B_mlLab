{
 "cells": [
  {
   "cell_type": "code",
   "execution_count": 36,
   "metadata": {},
   "outputs": [],
   "source": [
    "list1=[115.3,195.5,120.5,110.2,90.4,105.6,110.9,116.3,122.3,125.4]\n",
    "from collections import Counter"
   ]
  },
  {
   "cell_type": "code",
   "execution_count": 33,
   "metadata": {},
   "outputs": [],
   "source": [
    "import math\n",
    "\n",
    "def mean(list1):\n",
    "    sum = 0\n",
    "    for i in list1:\n",
    "        sum += i\n",
    "    return sum / len(list1)\n"
   ]
  },
  {
   "cell_type": "code",
   "execution_count": 15,
   "metadata": {},
   "outputs": [
    {
     "name": "stdout",
     "output_type": "stream",
     "text": [
      "121.24000000000001\n"
     ]
    }
   ],
   "source": [
    "print(mean(list1))\n"
   ]
  },
  {
   "cell_type": "code",
   "execution_count": 16,
   "metadata": {},
   "outputs": [],
   "source": [
    "\n",
    "def variance(list1):\n",
    "    mn = mean(list1)\n",
    "    sum = 0\n",
    "    for i in list1:\n",
    "        tmp = (i - mn)*(i - mn)\n",
    "        sum += tmp\n",
    "    sum = sum / len(list1)\n",
    "    return sum"
   ]
  },
  {
   "cell_type": "code",
   "execution_count": 17,
   "metadata": {},
   "outputs": [
    {
     "name": "stdout",
     "output_type": "stream",
     "text": [
      "701.7724\n"
     ]
    }
   ],
   "source": [
    "print(variance(list1))"
   ]
  },
  {
   "cell_type": "code",
   "execution_count": 18,
   "metadata": {},
   "outputs": [],
   "source": [
    "def std(list1):\n",
    "    mn = mean(list1)\n",
    "    nl = []\n",
    "    sum = 0\n",
    "    for i in list1:\n",
    "        tmp = (i - mn)*(i - mn)\n",
    "        nl.append(tmp)\n",
    "        sum += tmp\n",
    "    sum = math.sqrt(sum/len(list1))\n",
    "    return sum"
   ]
  },
  {
   "cell_type": "code",
   "execution_count": 19,
   "metadata": {},
   "outputs": [
    {
     "name": "stdout",
     "output_type": "stream",
     "text": [
      "26.490987146574962\n"
     ]
    }
   ],
   "source": [
    "print(std(list1))\n"
   ]
  },
  {
   "cell_type": "code",
   "execution_count": 20,
   "metadata": {},
   "outputs": [],
   "source": [
    "def cal_median(list1):\n",
    "    N=len(list1)\n",
    "    list1.sort()\n",
    "    if N % 2 == 0:\n",
    "        median1 = N/2\n",
    "        median2 = N/2 + 1\n",
    "        median1 = int(median1) - 1\n",
    "        median2 = int(median2) - 1\n",
    "        median = (list1[median1] + list1[median2]) / 2\n",
    "    else:\n",
    "        median = (N + 1) / 2\n",
    "        median = int(median) - 1\n",
    "        median = list1[median]\n",
    "    return median"
   ]
  },
  {
   "cell_type": "code",
   "execution_count": 21,
   "metadata": {},
   "outputs": [
    {
     "name": "stdout",
     "output_type": "stream",
     "text": [
      "115.8\n"
     ]
    }
   ],
   "source": [
    "print(cal_median(list1))\n"
   ]
  },
  {
   "cell_type": "code",
   "execution_count": 37,
   "metadata": {},
   "outputs": [],
   "source": [
    "def mode(list1):\n",
    "    n=len(list1)\n",
    "    c=Counter(list1)\n",
    "    mod=[k for k,v in c.items() if v==c.most_common(1)[0][1]]\n",
    "    if(len(mod)==n):\n",
    "        print(\"no mode found\")\n",
    "    else:\n",
    "        print(\"mode:\",mod)\n",
    "            \n",
    "    \n"
   ]
  },
  {
   "cell_type": "code",
   "execution_count": 38,
   "metadata": {},
   "outputs": [
    {
     "name": "stdout",
     "output_type": "stream",
     "text": [
      "no mode found\n"
     ]
    }
   ],
   "source": [
    "mode(list1)"
   ]
  },
  {
   "cell_type": "code",
   "execution_count": 42,
   "metadata": {},
   "outputs": [],
   "source": [
    "import statistics as st\n",
    "def normalise(list1):\n",
    "    list1.sort()\n",
    "    nl = []\n",
    "    minel = min(list1)\n",
    "    maxel = max(list1)\n",
    "    for i in list1:\n",
    "        nl.append(round((i - minel)/(maxel - minel),3))\n",
    "    return nl\n",
    "\n",
    "def standardise(list1):\n",
    "    list1.sort\n",
    "    nl = []\n",
    "    mean = st.mean(list1)\n",
    "    std = st.stdev(list1)\n",
    "    for i in list1:\n",
    "        nl.append(round((i - mean)/std, 3))\n",
    "    return nl"
   ]
  },
  {
   "cell_type": "code",
   "execution_count": 40,
   "metadata": {},
   "outputs": [
    {
     "name": "stdout",
     "output_type": "stream",
     "text": [
      "[0.237, 1.0, 0.286, 0.188, 0.0, 0.145, 0.195, 0.246, 0.304, 0.333]\n"
     ]
    }
   ],
   "source": [
    "print(normalise(list1))"
   ]
  },
  {
   "cell_type": "code",
   "execution_count": 43,
   "metadata": {},
   "outputs": [
    {
     "name": "stdout",
     "output_type": "stream",
     "text": [
      "[-0.213, 2.659, -0.027, -0.395, -1.104, -0.56, -0.37, -0.177, 0.038, 0.149]\n"
     ]
    }
   ],
   "source": [
    "print(standardise(list1))"
   ]
  },
  {
   "cell_type": "code",
   "execution_count": null,
   "metadata": {},
   "outputs": [],
   "source": []
  }
 ],
 "metadata": {
  "kernelspec": {
   "display_name": "Python 3",
   "language": "python",
   "name": "python3"
  },
  "language_info": {
   "codemirror_mode": {
    "name": "ipython",
    "version": 3
   },
   "file_extension": ".py",
   "mimetype": "text/x-python",
   "name": "python",
   "nbconvert_exporter": "python",
   "pygments_lexer": "ipython3",
   "version": "3.8.5"
  }
 },
 "nbformat": 4,
 "nbformat_minor": 4
}
